{
 "cells": [
  {
   "cell_type": "code",
   "execution_count": 1,
   "metadata": {},
   "outputs": [
    {
     "ename": "ModuleNotFoundError",
     "evalue": "No module named 'etl'",
     "output_type": "error",
     "traceback": [
      "\u001b[0;31m---------------------------------------------------------------------------\u001b[0m",
      "\u001b[0;31mModuleNotFoundError\u001b[0m                       Traceback (most recent call last)",
      "Cell \u001b[0;32mIn[1], line 3\u001b[0m\n\u001b[1;32m      1\u001b[0m \u001b[38;5;66;03m# Import the extract module\u001b[39;00m\n\u001b[1;32m      2\u001b[0m \u001b[38;5;28;01mimport\u001b[39;00m \u001b[38;5;21;01mos\u001b[39;00m\n\u001b[0;32m----> 3\u001b[0m \u001b[38;5;28;01mfrom\u001b[39;00m \u001b[38;5;21;01metl\u001b[39;00m\u001b[38;5;21;01m.\u001b[39;00m\u001b[38;5;21;01mextract\u001b[39;00m \u001b[38;5;28;01mimport\u001b[39;00m download_gff\n\u001b[1;32m      5\u001b[0m \u001b[38;5;66;03m# Define the parameters for the test\u001b[39;00m\n\u001b[1;32m      6\u001b[0m ensembl_version \u001b[38;5;241m=\u001b[39m \u001b[38;5;241m52\u001b[39m\n",
      "\u001b[0;31mModuleNotFoundError\u001b[0m: No module named 'etl'"
     ]
    }
   ],
   "source": [
    "# Import the extract module\n",
    "import os\n",
    "from etl.extract import download_gff\n",
    "\n",
    "# Define the parameters for the test\n",
    "ensembl_version = 52\n",
    "organism_name = \"arabidopsis_thaliana\"\n",
    "output_dir = \"./output\"\n",
    "\n",
    "# Create the output directory if it doesn't exist\n",
    "os.makedirs(output_dir, exist_ok=True)\n",
    "\n",
    "# Run the extract function to download the GFF file\n",
    "try:\n",
    "    gff_file_path = download_gff(ensembl_version, organism_name, output_dir)\n",
    "    print(f\"GFF file successfully downloaded to: {gff_file_path}\")\n",
    "except Exception as e:\n",
    "    print(f\"Error during download: {e}\")\n",
    "\n",
    "# Check if the file exists\n",
    "if os.path.exists(gff_file_path):\n",
    "    print(\"File exists! Let's inspect the contents...\")\n",
    "    # Let's read the first few lines of the GFF file to inspect it\n",
    "    with open(gff_file_path, 'rb') as file:\n",
    "        # Read the first 500 bytes (adjust as needed)\n",
    "        file_content = file.read(500)\n",
    "        print(file_content[:500])\n",
    "\n",
    "else:\n",
    "    print(\"File was not downloaded successfully.\")\n"
   ]
  },
  {
   "cell_type": "code",
   "execution_count": null,
   "metadata": {},
   "outputs": [],
   "source": []
  }
 ],
 "metadata": {
  "kernelspec": {
   "display_name": "base",
   "language": "python",
   "name": "python3"
  },
  "language_info": {
   "codemirror_mode": {
    "name": "ipython",
    "version": 3
   },
   "file_extension": ".py",
   "mimetype": "text/x-python",
   "name": "python",
   "nbconvert_exporter": "python",
   "pygments_lexer": "ipython3",
   "version": "3.11.5"
  }
 },
 "nbformat": 4,
 "nbformat_minor": 2
}
