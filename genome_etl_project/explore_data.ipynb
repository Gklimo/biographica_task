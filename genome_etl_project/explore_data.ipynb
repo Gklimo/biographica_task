{
 "cells": [
  {
   "cell_type": "code",
   "execution_count": 1,
   "metadata": {},
   "outputs": [
    {
     "name": "stdout",
     "output_type": "stream",
     "text": [
      "GFF file successfully downloaded to: ./output/Arabidopsis_thaliana.TAIR10.59.chromosome.1.gff3.gz\n"
     ]
    }
   ],
   "source": [
    "import os\n",
    "import requests\n",
    "from urllib.parse import urljoin\n",
    "import pandas as pd\n",
    "import gzip\n",
    "from urllib.parse import urljoin\n",
    "import os\n",
    "\n",
    "# Define the parameters\n",
    "ensembl_version = 59  # Correct release version\n",
    "organism_name = \"arabidopsis_thaliana\"\n",
    "chromosome = \"chromosome.1\"  # Change this to download specific chromosomes\n",
    "output_dir = \"./output\"\n",
    "\n",
    "# Create output directory if it doesn't exist\n",
    "os.makedirs(output_dir, exist_ok=True)\n",
    "\n",
    "# Update the download_gff function\n",
    "def download_gff(ensembl_version: int, organism_name: str, chromosome: str, output_dir: str) -> str:\n",
    "    base_url = f\"https://ftp.ensemblgenomes.ebi.ac.uk/pub/plants/release-{ensembl_version}/gff3/{organism_name}/\"\n",
    "    gff_file = f\"{organism_name.capitalize()}.TAIR10.{ensembl_version}.{chromosome}.gff3.gz\"\n",
    "    full_url = urljoin(base_url, gff_file)\n",
    "    local_path = os.path.join(output_dir, gff_file)\n",
    "\n",
    "    # Download the file\n",
    "    response = requests.get(full_url)\n",
    "    if response.status_code == 200:\n",
    "        with open(local_path, 'wb') as f:\n",
    "            f.write(response.content)\n",
    "        return local_path\n",
    "    else:\n",
    "        raise Exception(f\"Failed to download GFF file for {organism_name} {chromosome} (status code: {response.status_code})\")\n",
    "# Test the download with chromosome 1\n",
    "try:\n",
    "    gff_file_path = download_gff(ensembl_version, organism_name, chromosome, output_dir)\n",
    "    print(f\"GFF file successfully downloaded to: {gff_file_path}\")\n",
    "except Exception as e:\n",
    "    print(f\"Error during download: {e}\")\n"
   ]
  },
  {
   "cell_type": "code",
   "execution_count": null,
   "metadata": {},
   "outputs": [],
   "source": []
  }
 ],
 "metadata": {
  "kernelspec": {
   "display_name": "base",
   "language": "python",
   "name": "python3"
  },
  "language_info": {
   "codemirror_mode": {
    "name": "ipython",
    "version": 3
   },
   "file_extension": ".py",
   "mimetype": "text/x-python",
   "name": "python",
   "nbconvert_exporter": "python",
   "pygments_lexer": "ipython3",
   "version": "3.11.5"
  }
 },
 "nbformat": 4,
 "nbformat_minor": 2
}
